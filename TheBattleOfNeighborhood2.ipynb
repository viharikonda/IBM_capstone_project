{
 "cells": [
  {
   "cell_type": "markdown",
   "metadata": {},
   "source": [
    "# NEW INDIAN RESTAURANT IN WORLD'S TOP BUSINESS CENTERS\n",
    "__ __"
   ]
  },
  {
   "cell_type": "markdown",
   "metadata": {},
   "source": [
    "# Discusions"
   ]
  },
  {
   "cell_type": "markdown",
   "metadata": {},
   "source": [
    "First Vihari needs to choose a suitable location for his business. Vihari wants to open its Indian Restautant in either Toronto or New York. Both cities are famous in world business communities but their real estate is very costly. So initially Vihari will go for rent instead of purchase\n",
    "\n",
    "__Assuming that Vihari wants to rent a place for its Restaurant, now -\n",
    "#####    __1. He needs to choose city between Toronto and New York.__ \n",
    "#####    __2. While deciding city, Vihari have to consider__\n",
    "\n",
    "                i)   Multi-ethnicity data\n",
    "                ii)  Indian Community data\n",
    "                iii) Social Conditions like crime and violence data\n",
    "                iV)  Economics conditions like Economic stability and progress data\n",
    "                V)   Political stability & government policies for business data\n",
    "                (Data is available on https://www.zillow.com/research/data/,\n",
    "                                      https://en.wikipedia.org/wiki/Demographics_of_Toronto \n",
    "                                      and other websites)\n",
    "                                      \n",
    "#####    __3. Once the city is decided he will have to find a suitable neighborhoods with more Indian and Asian people.\n",
    "               (Data is available in https://en.wikipedia.org/wiki/List_of_neighbourhoods_in_Toronto amd \n",
    "                                     in other CSV format)\n",
    "#####    __4. After neighborhood, Vihari have to find nearby Indian restaurant in neighborhood with their ratings.\n",
    "               (Data can be assessed through Foursquare location data)\n",
    "#####    __5. and at the end, Vihari will be ready to open his new restaurant at proper location__"
   ]
  },
  {
   "cell_type": "code",
   "execution_count": null,
   "metadata": {},
   "outputs": [],
   "source": []
  }
 ],
 "metadata": {
  "kernelspec": {
   "display_name": "Python 3",
   "language": "python",
   "name": "python3"
  },
  "language_info": {
   "codemirror_mode": {
    "name": "ipython",
    "version": 3
   },
   "file_extension": ".py",
   "mimetype": "text/x-python",
   "name": "python",
   "nbconvert_exporter": "python",
   "pygments_lexer": "ipython3",
   "version": "3.7.3"
  }
 },
 "nbformat": 4,
 "nbformat_minor": 2
}
