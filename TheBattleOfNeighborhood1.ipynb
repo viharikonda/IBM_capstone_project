{
 "cells": [
  {
   "cell_type": "markdown",
   "metadata": {},
   "source": [
    "# NEW INDIAN RESTAURANT IN WORLD'S TOP BUSINESS CENTERS\n",
    "__ __"
   ]
  },
  {
   "cell_type": "markdown",
   "metadata": {},
   "source": [
    "# Introduction"
   ]
  },
  {
   "cell_type": "markdown",
   "metadata": {},
   "source": [
    "__This report is for those who are planning to start a new business in worlds top business centers like Toronto, New York, Boston. Suggestions will be based on all the factors need to be considered while starting a new venture.__\n"
   ]
  },
  {
   "cell_type": "markdown",
   "metadata": {},
   "source": [
    "# Business Problem\n",
    "\n",
    "##### The report will focus on problems one might face while opening a new business in world's top business center. There are many factors need to be considered while opening new business. Let us say Vihari is a young dynamic Indian who wants to open an Indian restaurant. Here location of business will be the first and foremost important point to be decided for Vihari.\n",
    "\n",
    "#### __While deciding the location of business, key questions need to be answered are:-__\n",
    "###### 1. On what basis top business cities will be selected? \n",
    "###### 2. On what basis businesse location can be decided? \n",
    "###### 3. Does Lalit want to rent the place or can he afford to buy it? \n",
    "\n",
    "##### __Key Points to be considered:__\n",
    "###### 1. Where are top business cities?\n",
    "###### 2. What are prime location for business?\n",
    "###### 3. How many Indian Restaurants are there in particular location ? \n",
    "###### 5. What are their ratings? \n",
    "###### 6. What are the factors that will help Vihari to run his business above average rating?\n",
    "\n"
   ]
  },
  {
   "cell_type": "code",
   "execution_count": null,
   "metadata": {},
   "outputs": [],
   "source": []
  }
 ],
 "metadata": {
  "kernelspec": {
   "display_name": "Python 3",
   "language": "python",
   "name": "python3"
  },
  "language_info": {
   "codemirror_mode": {
    "name": "ipython",
    "version": 3
   },
   "file_extension": ".py",
   "mimetype": "text/x-python",
   "name": "python",
   "nbconvert_exporter": "python",
   "pygments_lexer": "ipython3",
   "version": "3.7.3"
  }
 },
 "nbformat": 4,
 "nbformat_minor": 2
}
