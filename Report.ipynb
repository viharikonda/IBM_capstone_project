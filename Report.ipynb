{
 "cells": [
  {
   "cell_type": "markdown",
   "metadata": {},
   "source": [
    "# Report\n",
    "\n",
    "After looking at the data within the neighborhood of downtown Toronto. \n",
    "The city is a power house of entertainment and food courts. It has multiple Theaters, food places, clubs, gastro pubs, parks, hiking trials.\n",
    "Choosing a place very close to historical places in downtown Toronto would be an ideal place for our restaurant. \n",
    "\n",
    "Since Tourists would be very much interested in visiting historical places, landmark venues, downtown, nightlife, museums. The tourists have an easily travelling access due to airport facility, which not only saves times but also helps to save money.\n",
    "\n",
    "St. James Town, Central Bay Street, Adelaide, King, Richmond are the best areas to launch the restaurant!!"
   ]
  }
 ],
 "metadata": {
  "kernelspec": {
   "display_name": "Python 3",
   "language": "python",
   "name": "python3"
  },
  "language_info": {
   "codemirror_mode": {
    "name": "ipython",
    "version": 3
   },
   "file_extension": ".py",
   "mimetype": "text/x-python",
   "name": "python",
   "nbconvert_exporter": "python",
   "pygments_lexer": "ipython3",
   "version": "3.7.3"
  }
 },
 "nbformat": 4,
 "nbformat_minor": 2
}
